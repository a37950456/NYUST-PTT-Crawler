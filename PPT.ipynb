{
 "cells": [
  {
   "cell_type": "code",
   "execution_count": 5,
   "metadata": {},
   "outputs": [
    {
     "name": "stdout",
     "output_type": "stream",
     "text": [
      "Requirement already satisfied: requests in /usr/lib/python3/dist-packages\r\n"
     ]
    }
   ],
   "source": [
    "!pip install --user requests"
   ]
  },
  {
   "cell_type": "code",
   "execution_count": 6,
   "metadata": {},
   "outputs": [
    {
     "name": "stdout",
     "output_type": "stream",
     "text": [
      "Requirement already up-to-date: beautifulsoup4 in ./.local/lib/python3.5/site-packages\n",
      "Requirement already up-to-date: lxml in ./.local/lib/python3.5/site-packages\n",
      "Requirement already up-to-date: html5lib==1.0b8 in ./.local/lib/python3.5/site-packages\n",
      "Requirement already up-to-date: six in ./.local/lib/python3.5/site-packages (from html5lib==1.0b8)\n"
     ]
    }
   ],
   "source": [
    "!pip install --user --upgrade beautifulsoup4 lxml html5lib==1.0b8"
   ]
  },
  {
   "cell_type": "code",
   "execution_count": 26,
   "metadata": {
    "scrolled": true
   },
   "outputs": [
    {
     "name": "stdout",
     "output_type": "stream",
     "text": [
      "['/bbs/Gossiping/M.1513838562.A.72B.html', '/bbs/Gossiping/M.1513838613.A.4BA.html', '/bbs/Gossiping/M.1513838619.A.3B7.html', '/bbs/Gossiping/M.1513838629.A.246.html', '/bbs/Gossiping/M.1513838645.A.961.html', '/bbs/Gossiping/M.1513838665.A.ACB.html', '/bbs/Gossiping/M.1513838820.A.EA1.html', '/bbs/Gossiping/M.1513838823.A.E3E.html', '/bbs/Gossiping/M.1513838842.A.ECA.html', '/bbs/Gossiping/M.1513838858.A.789.html', '/bbs/Gossiping/M.1513838864.A.D8A.html', '/bbs/Gossiping/M.1513838873.A.195.html', '/bbs/Gossiping/M.1513838902.A.088.html', '/bbs/Gossiping/M.1513838912.A.615.html', '/bbs/Gossiping/M.1510415718.A.D77.html', '/bbs/Gossiping/M.1512882583.A.B4E.html', '/bbs/Gossiping/M.1513426094.A.927.html', '/bbs/Gossiping/M.1513683634.A.2F5.html', '/bbs/Gossiping/M.1512057611.A.16B.html']\n"
     ]
    }
   ],
   "source": [
    "from bs4 import BeautifulSoup\n",
    "import requests\n",
    "url = \"https://www.ptt.cc/bbs/Gossiping/index.html\"\n",
    "resp = requests.get(\n",
    "    url,\n",
    "    cookies={'over18':'1'}\n",
    ")\n",
    "soup = BeautifulSoup(resp.text.encode(\"utf-8\"),\"lxml\")\n",
    "#print(soup.find('text'))\n",
    "#print(resp.text)\n",
    "\n",
    "gossip_list = soup.find('div',{'class','r-list-container action-bar-margin bbs-screen'})\n",
    "link_list = gossip_list.find_all('a')\n",
    "\n",
    "link_list = [link.get('href') for link in link_list]\n",
    "print(link_list)\n"
   ]
  },
  {
   "cell_type": "code",
   "execution_count": 27,
   "metadata": {},
   "outputs": [
    {
     "name": "stdout",
     "output_type": "stream",
     "text": [
      "[{'author': 'Phoenix9 (燄燄)', 'title': 'Re: [問卦] 年輕人工作時間很愛滑手機是在？？？ - 看板 Gossiping - 批踢踢實業坊'}, {'author': 'moshenisshit (嘻嘻)', 'title': '[問卦] 哎喲，覺青484都有從政夢？ - 看板 Gossiping - 批踢踢實業坊'}, {'author': 'saipipi (雷神)', 'title': '[問卦] 周杰倫為什麼回不去以前的曲風了？ - 看板 Gossiping - 批踢踢實業坊'}, {'author': 'raxxar82 ( )', 'title': 'Re: [新聞] 肯亞詐騙案台灣主嫌\\u3000遭中國法院重判15年 - 看板 Gossiping - 批踢踢實業坊'}, {'author': 'JugarXE (JugarXE)', 'title': 'Re: [問卦] 高中物理難度是不是太低了 - 看板 Gossiping - 批踢踢實業坊'}, {'author': 'rote (ROTE)', 'title': 'Re: [問卦] 洪仲丘有11萬人錄音帶會有多少人的卦?! - 看板 Gossiping - 批踢踢實業坊'}, {'author': 'tigotigo5566 (鐵劍5566)', 'title': 'Re: [問卦] 虎航空姐素質屌打其他 - 看板 Gossiping - 批踢踢實業坊'}, {'author': 'MEKE0000 (豝☆即☆斬)', 'title': '[問卦] 有沒有資料結構的掛 - 看板 Gossiping - 批踢踢實業坊'}, {'author': 'cosmite (K)', 'title': '[問卦] 同事留起「下巴大鬍子」 - 看板 Gossiping - 批踢踢實業坊'}, {'author': 'hosanna0813 (小梁\\\\)', 'title': '[ＦＢ] 李慶鋒 - 看板 Gossiping - 批踢踢實業坊'}, {'author': 'teddysue ()', 'title': '[問卦] 勞斯萊斯怎不出家用電器？ - 看板 Gossiping - 批踢踢實業坊'}, {'author': 'wade6510 (真情不必多說)', 'title': 'Re: [新聞] 廢英檢畢業「假門檻」！13校學生會齊發聲 - 看板 Gossiping - 批踢踢實業坊'}, {'author': 'coffee3698 (帥 太沉重)', 'title': '[問卦] 剛剛媽媽打電話來說被騙了..... - 看板 Gossiping - 批踢踢實業坊'}, {'author': 'opfish (coco)', 'title': 'Re: [新聞] 政院強調勞基法沒修惡\\u3000 林美珠再上火線 - 看板 Gossiping - 批踢踢實業坊'}, {'author': 'Kay731 (K少)', 'title': '[公告] 八卦板板規(2017.11.11) - 看板 Gossiping - 批踢踢實業坊'}, {'author': 'vivismile (薇薇一笑)', 'title': '12/09 台南三媽臭臭鍋前車禍目擊 - 看板 Gossiping - 批踢踢實業坊'}, {'author': 'someoneelse ( )', 'title': '[協尋] 12/16 台北市民大道金山北路口車禍 - 看板 Gossiping - 批踢踢實業坊'}, {'author': 'jokerndmc (小人物)', 'title': '[協尋] 12月19日 晚上9點前後  高雄市明誠路 鼎 - 看板 Gossiping - 批踢踢實業坊'}, {'author': None, 'title': '閱讀文章 - 看板 Gossiping - 批踢踢實業坊'}]\n"
     ]
    }
   ],
   "source": [
    "def fetchPost(url):\n",
    "    resp = requests.get(\n",
    "    'https://www.ptt.cc'+ url,\n",
    "    cookies={'over18':'1'}\n",
    "    )\n",
    "    \n",
    "    soup = BeautifulSoup(resp.text.encode('utf-8'),'lxml')\n",
    "    if soup.find('title'):\n",
    "        title = soup.find('title').text    \n",
    "    else:\n",
    "        title = None\n",
    "        \n",
    "    if soup.find('span',{'class':'article-meta-value'}):\n",
    "        author = soup.find('span',{'class':'article-meta-value'}).text\n",
    "    else:\n",
    "        author = None\n",
    "    return {'title':title,'author':author}\n",
    "\n",
    "post_list = [fetchPost(link) for link in link_list]  #前面有定義過link_list\n",
    "print(post_list)\n"
   ]
  },
  {
   "cell_type": "code",
   "execution_count": 28,
   "metadata": {},
   "outputs": [
    {
     "name": "stdout",
     "output_type": "stream",
     "text": [
      "/bbs/Gossiping/index29630.html\n",
      "['/bbs/Gossiping/M.1513837870.A.4EA.html', '/bbs/Gossiping/M.1513837890.A.754.html', '/bbs/Gossiping/M.1513837905.A.F7A.html', '/bbs/Gossiping/M.1513837933.A.72D.html', '/bbs/Gossiping/M.1513838019.A.158.html', '/bbs/Gossiping/M.1513838071.A.13F.html', '/bbs/Gossiping/M.1513838093.A.135.html', '/bbs/Gossiping/M.1513838094.A.658.html', '/bbs/Gossiping/M.1513838099.A.155.html', '/bbs/Gossiping/M.1513838102.A.03B.html', '/bbs/Gossiping/M.1513838103.A.163.html', '/bbs/Gossiping/M.1513838115.A.18D.html', '/bbs/Gossiping/M.1513838132.A.6FE.html', '/bbs/Gossiping/M.1513838204.A.9FA.html', '/bbs/Gossiping/M.1513838240.A.AC2.html', '/bbs/Gossiping/M.1513838323.A.0B2.html', '/bbs/Gossiping/M.1513838324.A.C3B.html', '/bbs/Gossiping/M.1513838348.A.88B.html', '/bbs/Gossiping/M.1513838378.A.6F3.html', '/bbs/Gossiping/M.1513838509.A.6D6.html']\n"
     ]
    }
   ],
   "source": [
    "def getlist(url):\n",
    "    resp = requests.get(\n",
    "    url,\n",
    "    cookies={'over18':'1'}\n",
    "    )\n",
    "    #print(resp.request.url)\n",
    "    soup = BeautifulSoup(resp.text.encode('utf-8'),'lxml')\n",
    "    get_list5 = soup.find('div',{'class',\"r-list-container action-bar-margin bbs-screen\"})\n",
    "    link_list5 = get_list5.find_all('a')\n",
    "    return link_list5 \n",
    "\n",
    "def getprevious(url):\n",
    "    resp = requests.get(\n",
    "    url,\n",
    "    cookies={'over18':'1'}\n",
    "    )\n",
    "    soup = BeautifulSoup(resp.text.encode('utf-8'),'lxml')\n",
    "    get_previous_list5 = soup.find('div',{'class','btn-group btn-group-paging'})\n",
    "    link_list_previous = get_previous_list5.find_all('a')[1].get('href')   #zzz[]  <<陣列名稱\n",
    "    return link_list_previous\n",
    "\n",
    "list5 = getprevious(url)\n",
    "print(list5)\n",
    "post_list5 = [l.get('href') for l in getlist('https://www.ptt.cc'+list5)]\n",
    "print(post_list5)"
   ]
  },
  {
   "cell_type": "code",
   "execution_count": 59,
   "metadata": {},
   "outputs": [
    {
     "name": "stdout",
     "output_type": "stream",
     "text": [
      "[{'author': 'mmmpkxabc36 (****)', 'title': '[問卦] 已經三個禮拜沒看到的同學的八卦 - 看板 Gossiping - 批踢踢實業坊', 'content': '如題\\n再過一兩個禮拜就要期末考了\\n可是我的同學已經三個禮拜沒看到了\\n上次看到他還是一起吃飯的時候\\n換句話說他已經很久沒來上課了\\n可是他還欠我三百塊呢\\n原本想說他再怎麼混\\n期末考總能要到錢的\\n可是現在看來似乎也沒那麼肯定了\\n如果他這時候休學的話\\n我的三百塊就化為泡影了\\n\\n有沒有三個禮拜沒看到的同學的八卦\\ncc\\n\\n--', 'time': 'Thu Dec 21 16:35:45 2017'}, {'author': 'wateres (五樓愛自宮(#‵︿′ㄨ))', 'title': '[問卦] 有沒有湖藍色月亮能得到慰藉的八卦 - 看板 Gossiping - 批踢踢實業坊', 'content': '就是今天啊鐘鉉出殯了\\n\\n然後我滑著手機看今天世界發生的事\\n\\n居然有一堆人說看到湖藍色月亮得到了慰藉\\n\\n有沒有湖藍色月亮能得到慰藉的八卦\\n\\nPs 蔡秀彬我老婆', 'time': 'Thu Dec 21 16:36:13 2017'}, {'author': 'tinhanho (欸欸欸欸欸欸)', 'title': '[新聞] 不隨心理戰起舞 軍方不再公布共軍常態   - 看板 Gossiping - 批踢踢實業坊', 'content': '1.媒體來源:', 'time': 'Thu Dec 21 16:36:30 2017'}, {'author': 'sss0989088 (frank1203)', 'title': '[新聞] 「勞基法非修惡」行政院急消毒 勞團怒： - 看板 Gossiping - 批踢踢實業坊', 'content': '聯合\\ns\\n\\n「勞基法非修惡」行政院急消毒 勞團怒：還再騙\\n\\n\\n不滿勞基法再修法，全台100個工會、民團本周六發起抗議大遊行，不僅同為政府機關地方政府勞動主管機關帶頭反對修惡，連青年、學生都將包車北上抗議，行政院今再開記者會消毒，稱輪班間隔縮短只影響占整體10%的輪班勞工，且休息時間少於12小時並非常態，此句點燃勞團怒火反批，「勞工雖然少但也是人」，一次例外就可能危及社會安全，政府一直再騙。\\n\\n行政院發言人徐國勇今強調，關於輪班間隔的規定，很多人忽略了前提，是採取「輪班制」的勞工才適用，根據估算，只占了事業單位10%，如果是3班的輪班制勞工，基本上不會有加班，休息時間每天有16小時，只有換班才會有例外發生。\\n\\n高教工會組織部主任林柏儀表示，行政院所說根本「不是事實」，若依照行政院發言人徐國勇所說，輪班制勞工可以休息到12小時以上，為何要明明勞基法現行規範間隔得11小時，現在要縮減成8小時？就算是輪班事業體僅占10%，「這些勞工雖然少但也是人」，就算並非常態，只要發生一次身心過勞，疲累勞工影響不僅自身，若是客運司機還將危及到乘客、社會安全。\\n\\n林柏儀強調，不能因為例外，政府就放任發生，法令應該用於杜絕意外、保障弱勢勞工。政府到現在都不肯承認勞基法修惡，一例一休砍了勞工原本的七天假，所給的休息日加成加班費、特休假折現都還想再取消，對於爭議，政府還不肯說明，「根本是再欺騙勞工」。\\n\\n台灣鐵路產業工會理事長王傑批評，若依照行政院所說休息可達16小時，當初幹嘛勞基法規範輪班間隔11小時，現在縮短成8小時，再扣去上下班通勤時間，可能休息都不到6小時，政府仍然沒有說明縮短原因。', 'time': 'Thu Dec 21 16:36:51 2017'}, {'author': 'CLV518 (芷蘿)', 'title': 'Re: [新聞] 終於等到65歲！貧翁申請「敬老悠遊卡」遭 - 看板 Gossiping - 批踢踢實業坊', 'content': '這種一滿65就喜孜孜地馬上衝去想凹福利就是妥妥的低端人口無誤，\\n\\n最後竟然還真的給他辦到成功開始凹福利也是爆幹扯。\\n\\n這不是鼓勵低端人口即使沒房子、\\n\\n隨便找個寄戶籍的就能享有北市提供的福利，\\n\\n這樣只會讓低端人口越來越多而已。\\n\\n基本上像這種福利因為要65以上才能享有，\\n\\n而這種年紀的要是成功人士早就有車甚至司機載了，\\n\\n一般中產階級有點錢的車費甚麼的也完全不會是負擔。\\n\\n變成這種福利都給低端人口用好用滿去了。\\n\\n應該限制甚至完全取消這種福利，把錢花在其他更有用的地方。\\n\\n一方面花在其他地方能讓城市變得更好\\n\\n二來低端人口少了城市又更能變得更好\\n\\n大guy4這樣\\n\\n--', 'time': 'Thu Dec 21 16:37:02 2017'}, {'author': 'kugyumayu (麻友可愛)', 'title': '[問卦] 42億買山水十二條屏算是盤子嗎？ - 看板 Gossiping - 批踢踢實業坊', 'content': '前幾天強國的拍賣會有人用42億台幣買了齊白石的〈山水十二條屏〉\\n\\n我一看不得了，看起來的確是滿有素養的，就是美術館常常掛的那種畫\\n\\n但是感覺42億這個數字還是有一點浮誇啊！\\n\\n雖然土豪的價值觀跟思維本來就不是我們一般庶民可以理解的\\n\\n不過我學疏才淺，在google之前還完全不知道齊白石的何方神聖\\n\\n完全沒辦法想像這是什麼概念\\n\\n\\n\\n花42億買山水十二條屏算是盤子嗎？\\n\\n還是它的確是神作，就值得有那個價值呢？\\n\\n有沒有八卦？\\n\\n\\n--', 'time': 'Thu Dec 21 16:37:26 2017'}, {'author': 'kennyg8304 (無名)', 'title': 'Re: [新聞] 「樹立文化自信、抵禦西方侵蝕」 中國大 - 看板 Gossiping - 批踢踢實業坊', 'content': '福佬人兮1傳統宗教節日,\\n是媽祖生,普渡,作醮,觀音菩薩聖誕,王爺公聖誕千秋……等等\\n以小弟本身兮家庭文化,是拜觀世音菩薩和佛祖.\\n\\n每一年舊曆 2月19日兮觀音菩薩聖誕,\\n我攏會和阮厝內大人嬰仔,作夥去阮兜附近兮觀音亭,\\n”鑽龍虎喉”\\n龍虎喉是建在蓮花池頂面,龍頭是入口,龍尾是出口,,\\n眾善男信女舉著一支清香和紙人翁仔頭,一步一步走進前,\\n梯有108坎,代表36天罡和72地煞，每踏一兮階梯,就代表消除了一兮劫數,\\n走出龍尾後,會有師公替信徒作法,燒紙人,頓2朱砂印佇信徒兮衫褲,續落來3,\\n著是領護身符去過爐,吃平安麵.\\n看龜和魚仔.\\n\\n這才是正港台灣人兮聖誕節,\\n毋擱4,今馬是西風壓倒東風,\\n足濟5少年家,和吃到紅毛人6嘴瀾兮人,\\n攏足討厭傳統文化,伊N攏講這有夠”倯”7\\n這是真可惜兮所在.\\n我看,未來台灣人會像新加坡人同款,漸漸變成金蕉人8.\\n\\n註解:\\n1.      兮,的”的”或”個” e5  ㄟ\\n2.      頓 ,跺或蓋印章的蓋, tng3 ㄉㄥ\\n3.      續落來=接下來\\n4.      足,滿也,濟,多也,足濟=很多\\n5.      毋擱=不過\\n6.      紅毛人=外國人=CCR\\n7.      倯,康熙字典說是愚蠢,土包子之意 song5 ㄙㄨㄥˇ\\n8.      金蕉=芎蕉=香蕉,外黃內白,意指黃種人完全西化\\n\\n--', 'time': 'Thu Dec 21 16:37:46 2017'}, {'author': 'shaddock1996 (Shaddock)', 'title': '[問卦] 圖書館花七億蓋多還少 - 看板 Gossiping - 批踢踢實業坊', 'content': '今天上課得知學校圖書館花七億蓋\\n對這價格沒有概念\\n只有聽老師說還可以防9級以下地震\\n蠻安心的\\n不過七億蓋圖書館是多還是少呢？\\n\\n--', 'time': 'Thu Dec 21 16:37:51 2017'}, {'author': 'TW123456 (將帥無能 累死三軍)', 'title': 'Re: [問卦] 老婆跟瑜珈老師跑了怎摸半 - 看板 Gossiping - 批踢踢實業坊', 'content': '那你比我還慘\\n\\n我老婆跟一個健身教練在車上車震\\n\\n還被狗仔拍到\\n\\n後來經過我跟小孩的親情呼喊\\n\\n她終於回頭惹\\n\\n重點在於我的棒子比那個健身教練強', 'time': 'Thu Dec 21 16:38:15 2017'}, {'author': 'olmtw (支持htc，支持台灣貨)', 'title': '[新聞] 打擊黑心業者\\u3000問題商品賣逾千萬元即起 - 看板 Gossiping - 批踢踢實業坊', 'content': '', 'time': 'Thu Dec 21 16:38:19 2017'}, {'author': 'gentleman888 ()', 'title': '[問卦] 肥宅早洩被治好的機率多高？☺☺☺ - 看板 Gossiping - 批踢踢實業坊', 'content': '肥宅如果過度尻尻，\\n\\n尻到早洩後去求助泌尿科醫師，\\n\\n那麼早洩被治好的機率有多高呢？☺☺☺\\n\\n--', 'time': 'Thu Dec 21 16:38:28 2017'}, {'author': 'q5212 (q5212)', 'title': '[新聞] 吃牛肉麵…家附近全淨空！馬英九鄰居親上 - 看板 Gossiping - 批踢踢實業坊', 'content': '1.媒體來源:', 'time': 'Thu Dec 21 16:39:28 2017'}, {'author': 'JPChinbotsu (滯台支那人/皇民終結者)', 'title': '[問卦]  覺青是免洗稻草人的概念嗎 - 看板 Gossiping - 批踢踢實業坊', 'content': '反服貿的也覺青\\n\\n反中的也覺青\\n\\n舔共的畜生最喜歡覺青覺青的叫\\n\\n現在是反勞基法修正的是覺青\\n\\n有工作出來反也被叫覺青\\n\\n還在學的也是覺青\\n\\n舔資的狗們也是開始覺青覺青的喊\\n\\n這讓我有點困惑\\n\\n到底覺青是特定的一群人\\n\\n還是維護自己立場時候創造出來的稻草人呢？\\n\\n\\n-----\\nSent from JPTT on my iPhone\\n\\n--', 'time': 'Thu Dec 21 16:39:49 2017'}, {'author': 'LIN9 (LIN9)', 'title': '[新聞] 「他用廣東話自稱港仔」\\u3000港客邂逅野生 - 看板 Gossiping - 批踢踢實業坊', 'content': '1.媒體來源:蘋果\\n\\n\\n2.完整新聞標題:「他用廣東話自稱港仔」\\u3000港客邂逅野生馬英九樂翻\\n\\n\\n3.完整新聞內文:\\n前總統馬英九與夫人周美青昨(19)日到高雄弔唁詩人余光中，行程結束後到高雄一家牛肉\\n麵吃午餐，還和老闆和民眾合照，展現親和力，一名香港網友事後還在臉書開心PO出與馬\\n英九合照，並寫道：「跟前總統握了手，馬先生還用廣東話跟我講話，告訴我他是香港仔\\n！」\\n\\n店家劉老闆表示，周美青民國101年2月、3月時，在隨扈的陪同下到店裡用餐，可能是周\\n美青推薦，馬英九昨中午在隨扈與維安人員的陪同下第一次去，點了半筋半肉牛肉拉麵，\\n周美青則吃炸醬拌麵，加上一些小菜，但不記得總價是多少，「我想要請客，但被馬英九\\n夫婦婉拒，他們很親民隨和，還在價目表上簽名留念。」\\n\\n香港網友芊幸也在臉書PO出在牛肉麵店與馬英九的合照，她貼文寫道，「跟前總統握了手\\n，馬先生還用廣東話跟我講話，告訴我他是香港仔！吃麵遇到馬英九伉儷！好奇妙啊！」\\n她透露：「我進去麵店的時候馬英九剛和太太用完餐，店裡的客人和店員都爭相排隊要求\\n合照，周美青還幫忙收拾桌子、餐盤，連忙道歉說：『不好意思！給店家添麻煩了！』沒\\n想到他們這麼客氣！」\\n\\n照片是因總統府前副秘書長羅智強PO出後引發熱議，網友對於馬英九夫妻到高雄吃牛肉麵\\n持正反態度，有人嘲諷：「偶爾拉肚子吃清粥小菜，又要神話清廉？」、「政治是表演事\\n業」，不過也有網友留言，「平淡最幸福了！」、「好溫暖的照片喔！」(曾珮瑛／高雄\\n報導)\\n\\n新聞網址:', 'time': 'Thu Dec 21 16:40:09 2017'}, {'author': 'guesswhen (Gu)', 'title': 'Re: [問卦] 有人靠搭訕交到女友的嗎? - 看板 Gossiping - 批踢踢實業坊', 'content': '', 'time': 'Thu Dec 21 16:40:29 2017'}, {'author': 'Qoo20811 (冠宇哥)', 'title': '[問卦] 西方澤野弘之Niklas Johansson的八卦? - 看板 Gossiping - 批踢踢實業坊', 'content': '最近喜歡上的一個電音作曲家\\n\\n創作的歌裡面都有糞作專屬配樂家澤野弘之的味道\\n\\n隨便舉首當例子聽到最後跟澤野弘之的創作神韻都相似', 'time': 'Thu Dec 21 16:40:49 2017'}, {'author': 'Livingston (李文斯頓)', 'title': '[新聞] 綠綠DER! 一年沒行房 老婆竟生子 - 看板 Gossiping - 批踢踢實業坊', 'content': '', 'time': 'Thu Dec 21 16:40:51 2017'}, {'author': 'teac7 (午後紅茶)', 'title': '[問卦] 矇眼識 泡麵  能作什麼工作 - 看板 Gossiping - 批踢踢實業坊', 'content': '我有個特長就是 霸眼睛矇起來 不管是那牌那口味的泡麵\\n\\n我都能夠認出來 這樣專長能找什麼工作阿?\\n\\n\\n--', 'time': 'Thu Dec 21 16:43:00 2017'}, {'author': 'pmdrt (理想情人方程式)', 'title': '[新聞] 糊塗駕駛上路忘加油困高架警助推車加油 - 看板 Gossiping - 批踢踢實業坊', 'content': '糊塗駕駛上路忘加油\\u3000困高架警助推車加油\\n蘋果', 'time': 'Thu Dec 21 16:43:09 2017'}, {'author': 'LeBronJame23 (LeBron James 23號)', 'title': 'Re: [問卦] 周杰倫為什麼回不去以前的曲風了？ - 看板 Gossiping - 批踢踢實業坊', 'content': '', 'time': 'Thu Dec 21 16:43:49 2017'}, {'author': 'Kay731 (K少)', 'title': '[公告] 八卦板板規(2017.11.11) - 看板 Gossiping - 批踢踢實業坊', 'content': '╭─────────────────────────────────────╮\\n│ 本板為PTT八卦板，文章、推文及板務處理原則均依循中華民國法律、站規規範發\\u3000│\\n│ 文者，不得因不知相關板規而免卻責任。                                     │\\n╰─────────────────────────────────────╯', 'time': 'Sat Nov 11 23:55:13 2017'}, {'author': 'vivismile (薇薇一笑)', 'title': '12/09 台南三媽臭臭鍋前車禍目擊 - 看板 Gossiping - 批踢踢實業坊', 'content': '幫朋友代po\\n死者是朋友的表妹，請大家幫幫忙！\\n\\n-\\n\\n請各位鄉民們幫幫忙\\n找到一場車禍事故的行車記錄器、監視器畫面或目擊者\\n表妹出車禍，已宣告死亡，\\n整個下半身跟骨盆都嚴重扭曲變形\\n但是無法釐清肇事責任，\\n肇事者佔用機車道，表妹與她男朋友閃避不及而擦撞飛出\\n剛好後面一台711物流車行駛過來，釀成悲劇\\n時間：12/9 0:50-1:00之間\\n地點：台南市小東路138號，三媽臭臭鍋前\\n聯絡電話：0986205313\\n\\n\\n真的非常希望可以找到目擊證據 謝謝！！\\n\\n\\n\\n—\\n\\n目前家屬已經找到證據相關影片交由警方\\n真的非常感謝大家幫忙！！！\\n\\n--', 'time': 'Sun Dec 10 13:09:40 2017'}, {'author': 'someoneelse ( )', 'title': '[協尋] 12/16 台北市民大道金山北路口車禍 - 看板 Gossiping - 批踢踢實業坊', 'content': '請廣大的鄉民們幫幫忙\\n協尋一場車禍事故的行車紀錄器影片\\n我弟弟與他女友在此路口騎車往南直行時\\n遭違規左轉的汽車撞到\\n兩人的傷勢都很嚴重\\n肇事者說行車記錄器沒電無行車資料\\n時間：12/16 17:00-17:20 左右\\n地點：市民大道三段與金山北路口\\n如果有善心人士協助提供的話\\n請聯絡陳先生，電話0910327861\\n謝謝\\n-----\\nSent from JPTT on my iPhone\\n\\n--', 'time': 'Sat Dec 16 20:08:08 2017'}, {'author': 'jokerndmc (小人物)', 'title': '[協尋] 12月19日 晚上9點前後  高雄市明誠路 鼎 - 看板 Gossiping - 批踢踢實業坊', 'content': '昨晚(12/18)家人在明誠一路  鼎吉街口發生機車汽車車禍\\n時間約晚上9點前後\\n\\n\\n目前家人在加護病房觀察\\n懇求當時在附近的好心人提供行車記錄器\\n以釐清肇事原因\\n感激不盡\\n\\n-----\\nSent from JPTT on my Asus ASUS_Z012DA.\\n\\n--', 'time': 'Tue Dec 19 19:40:31 2017'}, {'author': None, 'title': '閱讀文章 - 看板 Gossiping - 批踢踢實業坊', 'content': None, 'time': None}]\n"
     ]
    }
   ],
   "source": [
    "import json\n",
    "\n",
    "class PttCrawler:\n",
    "    \n",
    "    def __init__(self, board, page, write=False):\n",
    "        self.ptt_url = 'https://www.ptt.cc'\n",
    "        self.board = board\n",
    "        self.page = page\n",
    "        \n",
    "        self.session = requests.Session()\n",
    "        self.session.cookies.update({\n",
    "            'over18':'1'\n",
    "        })\n",
    "        \n",
    "        self.write = write\n",
    "        \n",
    "    def run(self):\n",
    "        url = self.ptt_url + '/bbs/' + self.board\n",
    "        post_link_list = self.fetchPostLinkList(url)\n",
    "        post_list = [self.fetchPost(post_link) for post_link in post_link_list]\n",
    "        if self.write:\n",
    "            result_dir = os.path.join('ptt_crawler/', str(uuid4()))\n",
    "            os.makedirs(result_dir, exit_ok=True)\n",
    "            \n",
    "            for post in post_list:\n",
    "                with open(os.path.join(result_dir, post['id']), 'w') as f:\n",
    "                    f.write(json.dumps(post, indent=4))\n",
    "        return post_list\n",
    "    \n",
    "    def fetchPostLinkList(self,url):\n",
    "        if not url.startswith('http'):\n",
    "            url = self.ptt_url + url\n",
    "            \n",
    "        resp = self.session.get(\n",
    "        url\n",
    "        )\n",
    "        \n",
    "        soup = BeautifulSoup(resp.text.encode('utf-8'),'lxml')\n",
    "       # print(url)\n",
    "        post_list = soup.find('div',{'class','r-list-container action-bar-margin bbs-screen'})\n",
    "        link_list = [tag.get('href') for tag in post_list.find_all('a')]\n",
    "        \n",
    "        return link_list\n",
    "    \n",
    "    def fetchPost(self,url):\n",
    "        resp = requests.get(\n",
    "        'https://www.ptt.cc'+ url,\n",
    "        cookies={'over18':'1'}\n",
    "        )\n",
    "\n",
    "        soup = BeautifulSoup(resp.text.encode('utf-8'),'lxml')\n",
    "        if soup.find('title'):\n",
    "            title = soup.find('title').text    \n",
    "        else:\n",
    "            title = None\n",
    "\n",
    "        if soup.find('span',{'class':'article-meta-value'}):\n",
    "            author = soup.find_all('span',{'class':'article-meta-value'})[0].text\n",
    "        else:\n",
    "            author = None\n",
    "            \n",
    "        if soup.find_all('span',{'class':'article-meta-value'}):\n",
    "            time = soup.find_all('span',{'class':'article-meta-value'})[3].text\n",
    "        else:\n",
    "            time = None\n",
    "        if soup.find_all('div',{'class':'article-metaline'}):\n",
    "            temp = soup.find_all('div',{'class':'article-metaline'})[-1]\n",
    "            content = temp.next_sibling.strip()\n",
    "        else:\n",
    "            content = None\n",
    "        return {'title':title,'author':author,'time':time, 'content':content}\n",
    "        \n",
    "\n",
    "    def getprevious(self,url):\n",
    "        resp = requests.get(\n",
    "        url,\n",
    "        cookies={'over18':'1'}\n",
    "        )\n",
    "        soup = BeautifulSoup(resp.text.encode('utf-8'),'lxml')\n",
    "        get_previous_list5 = soup.find('div',{'class','btn-group btn-group-paging'})\n",
    "        link_list_previous = get_previous_list5.find_all('a')[1].get('href')   #zzz[]  <<陣列名稱\n",
    "        return link_list_previous\n",
    "\n",
    "board ='Gossiping'\n",
    "page = 3\n",
    "\n",
    "crawler = PttCrawler(board,page)\n",
    "runn = crawler.run()\n",
    "print(runn)\n"
   ]
  },
  {
   "cell_type": "code",
   "execution_count": null,
   "metadata": {
    "collapsed": true
   },
   "outputs": [],
   "source": []
  },
  {
   "cell_type": "code",
   "execution_count": null,
   "metadata": {
    "collapsed": true
   },
   "outputs": [],
   "source": []
  }
 ],
 "metadata": {
  "kernelspec": {
   "display_name": "Python 3",
   "language": "python",
   "name": "python3"
  },
  "language_info": {
   "codemirror_mode": {
    "name": "ipython",
    "version": 3
   },
   "file_extension": ".py",
   "mimetype": "text/x-python",
   "name": "python",
   "nbconvert_exporter": "python",
   "pygments_lexer": "ipython3",
   "version": "3.5.2"
  }
 },
 "nbformat": 4,
 "nbformat_minor": 2
}
