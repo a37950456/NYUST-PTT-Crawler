{
 "cells": [
  {
   "cell_type": "code",
   "execution_count": 5,
   "metadata": {},
   "outputs": [
    {
     "name": "stdout",
     "output_type": "stream",
     "text": [
      "Requirement already satisfied: requests in /usr/lib/python3/dist-packages\r\n"
     ]
    }
   ],
   "source": [
    "!pip install --user requests"
   ]
  },
  {
   "cell_type": "code",
   "execution_count": 6,
   "metadata": {},
   "outputs": [
    {
     "name": "stdout",
     "output_type": "stream",
     "text": [
      "Requirement already up-to-date: beautifulsoup4 in ./.local/lib/python3.5/site-packages\n",
      "Requirement already up-to-date: lxml in ./.local/lib/python3.5/site-packages\n",
      "Requirement already up-to-date: html5lib==1.0b8 in ./.local/lib/python3.5/site-packages\n",
      "Requirement already up-to-date: six in ./.local/lib/python3.5/site-packages (from html5lib==1.0b8)\n"
     ]
    }
   ],
   "source": [
    "!pip install --user --upgrade beautifulsoup4 lxml html5lib==1.0b8"
   ]
  },
  {
   "cell_type": "code",
   "execution_count": 26,
   "metadata": {
    "scrolled": true
   },
   "outputs": [
    {
     "name": "stdout",
     "output_type": "stream",
     "text": [
      "['/bbs/Gossiping/M.1513838562.A.72B.html', '/bbs/Gossiping/M.1513838613.A.4BA.html', '/bbs/Gossiping/M.1513838619.A.3B7.html', '/bbs/Gossiping/M.1513838629.A.246.html', '/bbs/Gossiping/M.1513838645.A.961.html', '/bbs/Gossiping/M.1513838665.A.ACB.html', '/bbs/Gossiping/M.1513838820.A.EA1.html', '/bbs/Gossiping/M.1513838823.A.E3E.html', '/bbs/Gossiping/M.1513838842.A.ECA.html', '/bbs/Gossiping/M.1513838858.A.789.html', '/bbs/Gossiping/M.1513838864.A.D8A.html', '/bbs/Gossiping/M.1513838873.A.195.html', '/bbs/Gossiping/M.1513838902.A.088.html', '/bbs/Gossiping/M.1513838912.A.615.html', '/bbs/Gossiping/M.1510415718.A.D77.html', '/bbs/Gossiping/M.1512882583.A.B4E.html', '/bbs/Gossiping/M.1513426094.A.927.html', '/bbs/Gossiping/M.1513683634.A.2F5.html', '/bbs/Gossiping/M.1512057611.A.16B.html']\n"
     ]
    }
   ],
   "source": [
    "from bs4 import BeautifulSoup\n",
    "import requests\n",
    "url = \"https://www.ptt.cc/bbs/Gossiping/index.html\"\n",
    "resp = requests.get(\n",
    "    url,\n",
    "    cookies={'over18':'1'}\n",
    ")\n",
    "soup = BeautifulSoup(resp.text.encode(\"utf-8\"),\"lxml\")\n",
    "#print(soup.find('text'))\n",
    "#print(resp.text)\n",
    "\n",
    "gossip_list = soup.find('div',{'class','r-list-container action-bar-margin bbs-screen'})\n",
    "link_list = gossip_list.find_all('a')\n",
    "\n",
    "link_list = [link.get('href') for link in link_list]\n",
    "print(link_list)\n"
   ]
  },
  {
   "cell_type": "code",
   "execution_count": 27,
   "metadata": {},
   "outputs": [
    {
     "name": "stdout",
     "output_type": "stream",
     "text": [
      "[{'author': 'Phoenix9 (燄燄)', 'title': 'Re: [問卦] 年輕人工作時間很愛滑手機是在？？？ - 看板 Gossiping - 批踢踢實業坊'}, {'author': 'moshenisshit (嘻嘻)', 'title': '[問卦] 哎喲，覺青484都有從政夢？ - 看板 Gossiping - 批踢踢實業坊'}, {'author': 'saipipi (雷神)', 'title': '[問卦] 周杰倫為什麼回不去以前的曲風了？ - 看板 Gossiping - 批踢踢實業坊'}, {'author': 'raxxar82 ( )', 'title': 'Re: [新聞] 肯亞詐騙案台灣主嫌\\u3000遭中國法院重判15年 - 看板 Gossiping - 批踢踢實業坊'}, {'author': 'JugarXE (JugarXE)', 'title': 'Re: [問卦] 高中物理難度是不是太低了 - 看板 Gossiping - 批踢踢實業坊'}, {'author': 'rote (ROTE)', 'title': 'Re: [問卦] 洪仲丘有11萬人錄音帶會有多少人的卦?! - 看板 Gossiping - 批踢踢實業坊'}, {'author': 'tigotigo5566 (鐵劍5566)', 'title': 'Re: [問卦] 虎航空姐素質屌打其他 - 看板 Gossiping - 批踢踢實業坊'}, {'author': 'MEKE0000 (豝☆即☆斬)', 'title': '[問卦] 有沒有資料結構的掛 - 看板 Gossiping - 批踢踢實業坊'}, {'author': 'cosmite (K)', 'title': '[問卦] 同事留起「下巴大鬍子」 - 看板 Gossiping - 批踢踢實業坊'}, {'author': 'hosanna0813 (小梁\\\\)', 'title': '[ＦＢ] 李慶鋒 - 看板 Gossiping - 批踢踢實業坊'}, {'author': 'teddysue ()', 'title': '[問卦] 勞斯萊斯怎不出家用電器？ - 看板 Gossiping - 批踢踢實業坊'}, {'author': 'wade6510 (真情不必多說)', 'title': 'Re: [新聞] 廢英檢畢業「假門檻」！13校學生會齊發聲 - 看板 Gossiping - 批踢踢實業坊'}, {'author': 'coffee3698 (帥 太沉重)', 'title': '[問卦] 剛剛媽媽打電話來說被騙了..... - 看板 Gossiping - 批踢踢實業坊'}, {'author': 'opfish (coco)', 'title': 'Re: [新聞] 政院強調勞基法沒修惡\\u3000 林美珠再上火線 - 看板 Gossiping - 批踢踢實業坊'}, {'author': 'Kay731 (K少)', 'title': '[公告] 八卦板板規(2017.11.11) - 看板 Gossiping - 批踢踢實業坊'}, {'author': 'vivismile (薇薇一笑)', 'title': '12/09 台南三媽臭臭鍋前車禍目擊 - 看板 Gossiping - 批踢踢實業坊'}, {'author': 'someoneelse ( )', 'title': '[協尋] 12/16 台北市民大道金山北路口車禍 - 看板 Gossiping - 批踢踢實業坊'}, {'author': 'jokerndmc (小人物)', 'title': '[協尋] 12月19日 晚上9點前後  高雄市明誠路 鼎 - 看板 Gossiping - 批踢踢實業坊'}, {'author': None, 'title': '閱讀文章 - 看板 Gossiping - 批踢踢實業坊'}]\n"
     ]
    }
   ],
   "source": [
    "def fetchPost(url):\n",
    "    resp = requests.get(\n",
    "    'https://www.ptt.cc'+ url,\n",
    "    cookies={'over18':'1'}\n",
    "    )\n",
    "    \n",
    "    soup = BeautifulSoup(resp.text.encode('utf-8'),'lxml')\n",
    "    if soup.find('title'):\n",
    "        title = soup.find('title').text    \n",
    "    else:\n",
    "        title = None\n",
    "        \n",
    "    if soup.find('span',{'class':'article-meta-value'}):\n",
    "        author = soup.find('span',{'class':'article-meta-value'}).text\n",
    "    else:\n",
    "        author = None\n",
    "    return {'title':title,'author':author}\n",
    "\n",
    "post_list = [fetchPost(link) for link in link_list]  #前面有定義過link_list\n",
    "print(post_list)\n"
   ]
  },
  {
   "cell_type": "code",
   "execution_count": 28,
   "metadata": {},
   "outputs": [
    {
     "name": "stdout",
     "output_type": "stream",
     "text": [
      "/bbs/Gossiping/index29630.html\n",
      "['/bbs/Gossiping/M.1513837870.A.4EA.html', '/bbs/Gossiping/M.1513837890.A.754.html', '/bbs/Gossiping/M.1513837905.A.F7A.html', '/bbs/Gossiping/M.1513837933.A.72D.html', '/bbs/Gossiping/M.1513838019.A.158.html', '/bbs/Gossiping/M.1513838071.A.13F.html', '/bbs/Gossiping/M.1513838093.A.135.html', '/bbs/Gossiping/M.1513838094.A.658.html', '/bbs/Gossiping/M.1513838099.A.155.html', '/bbs/Gossiping/M.1513838102.A.03B.html', '/bbs/Gossiping/M.1513838103.A.163.html', '/bbs/Gossiping/M.1513838115.A.18D.html', '/bbs/Gossiping/M.1513838132.A.6FE.html', '/bbs/Gossiping/M.1513838204.A.9FA.html', '/bbs/Gossiping/M.1513838240.A.AC2.html', '/bbs/Gossiping/M.1513838323.A.0B2.html', '/bbs/Gossiping/M.1513838324.A.C3B.html', '/bbs/Gossiping/M.1513838348.A.88B.html', '/bbs/Gossiping/M.1513838378.A.6F3.html', '/bbs/Gossiping/M.1513838509.A.6D6.html']\n"
     ]
    }
   ],
   "source": [
    "def getlist(url):\n",
    "    resp = requests.get(\n",
    "    url,\n",
    "    cookies={'over18':'1'}\n",
    "    )\n",
    "    #print(resp.request.url)\n",
    "    soup = BeautifulSoup(resp.text.encode('utf-8'),'lxml')\n",
    "    get_list5 = soup.find('div',{'class',\"r-list-container action-bar-margin bbs-screen\"})\n",
    "    link_list5 = get_list5.find_all('a')\n",
    "    return link_list5 \n",
    "\n",
    "def getprevious(url):\n",
    "    resp = requests.get(\n",
    "    url,\n",
    "    cookies={'over18':'1'}\n",
    "    )\n",
    "    soup = BeautifulSoup(resp.text.encode('utf-8'),'lxml')\n",
    "    get_previous_list5 = soup.find('div',{'class','btn-group btn-group-paging'})\n",
    "    link_list_previous = get_previous_list5.find_all('a')[1].get('href')   #zzz[]  <<陣列名稱\n",
    "    return link_list_previous\n",
    "\n",
    "list5 = getprevious(url)\n",
    "print(list5)\n",
    "post_list5 = [l.get('href') for l in getlist('https://www.ptt.cc'+list5)]\n",
    "print(post_list5)"
   ]
  },
  {
   "cell_type": "code",
   "execution_count": 43,
   "metadata": {},
   "outputs": [
    {
     "name": "stdout",
     "output_type": "stream",
     "text": [
      "https://www.ptt.cc/bbs/Gossiping\n",
      "[{'author': 'Philethan (Ethan)', 'title': '[ＦＢ] 柯文哲 一起來玩「奔跑吧！台北」 - 看板 Gossiping - 批踢踢實業坊'}, {'author': 'paetix (少冰微糖)', 'title': '[新聞] 搶救空污 政院宣布2030市區公車全面電動化 - 看板 Gossiping - 批踢踢實業坊'}, {'author': 'laser789 (南崁彭于晏)', 'title': '[問卦] 女森是不是無法下半身思考所以輸男森 - 看板 Gossiping - 批踢踢實業坊'}, {'author': 'blackzero1 (瘦宅)', 'title': 'Re: [問卦] 有沒有下床需要30分鐘的八卦 - 看板 Gossiping - 批踢踢實業坊'}, {'author': 'david190 (david)', 'title': '[問卦] 有沒有邏輯很好數學不好的 - 看板 Gossiping - 批踢踢實業坊'}, {'author': 'bigtien6292 (bigtien)', 'title': '[問卦] 有人還記得Kony 2012嗎 - 看板 Gossiping - 批踢踢實業坊'}, {'author': 'heartsilent (心靜自然涼)', 'title': '[問卦] 如果支那打過來要躲那裡比較安全? - 看板 Gossiping - 批踢踢實業坊'}, {'author': 'takashi01 (廢文小王子)', 'title': '[問卦] 博人是富幾代？ - 看板 Gossiping - 批踢踢實業坊'}, {'author': 'nsysu5566wow (西灣五六哥~哇嗚( ′-`))', 'title': '[問卦] 有沒有分辨修圖的八卦 - 看板 Gossiping - 批踢踢實業坊'}, {'author': 'Kay731 (K少)', 'title': '[公告] 八卦板板規(2017.11.11) - 看板 Gossiping - 批踢踢實業坊'}, {'author': 'vivismile (薇薇一笑)', 'title': '12/09 台南三媽臭臭鍋前車禍目擊 - 看板 Gossiping - 批踢踢實業坊'}, {'author': 'someoneelse ( )', 'title': '[協尋] 12/16 台北市民大道金山北路口車禍 - 看板 Gossiping - 批踢踢實業坊'}, {'author': 'jokerndmc (小人物)', 'title': '[協尋] 12月19日 晚上9點前後  高雄市明誠路 鼎 - 看板 Gossiping - 批踢踢實業坊'}, {'author': None, 'title': '閱讀文章 - 看板 Gossiping - 批踢踢實業坊'}]\n"
     ]
    }
   ],
   "source": [
    "import json\n",
    "\n",
    "class PttCrawler:\n",
    "    \n",
    "    def __init__(self, board, page, write=False):\n",
    "        self.ptt_url = 'https://www.ptt.cc'\n",
    "        self.board = board\n",
    "        self.page = page\n",
    "        \n",
    "        self.session = requests.Session()\n",
    "        self.session.cookies.update({\n",
    "            'over18':'1'\n",
    "        })\n",
    "        \n",
    "        self.write = write\n",
    "        \n",
    "    def run(self):\n",
    "        url = self.ptt_url + '/bbs/' + self.board\n",
    "        post_link_list = self.fetchPostLinkList(url)\n",
    "        post_list = [self.fetchPost(post_link) for post_link in post_link_list]\n",
    "        if self.write:\n",
    "            result_dir = os.path.join('ptt_crawler/', str(uuid4()))\n",
    "            os.makedirs(result_dir, exit_ok=True)\n",
    "            \n",
    "            for post in post_list:\n",
    "                with open(os.path.join(result_dir, post['id']), 'w') as f:\n",
    "                    f.write(json.dumps(post, indent=4))\n",
    "        return post_list\n",
    "    \n",
    "    def fetchPostLinkList(self,url):\n",
    "        if not url.startswith('http'):\n",
    "            url = self.ptt_url + url\n",
    "            \n",
    "        resp = self.session.get(\n",
    "        url\n",
    "        )\n",
    "        \n",
    "        soup = BeautifulSoup(resp.text.encode('utf-8'),'lxml')\n",
    "       # print(url)\n",
    "        post_list = soup.find('div',{'class','r-list-container action-bar-margin bbs-screen'})\n",
    "        link_list = [tag.get('href') for tag in post_list.find_all('a')]\n",
    "        \n",
    "        return link_list\n",
    "    \n",
    "    def fetchPost(self,url):\n",
    "        resp = requests.get(\n",
    "        'https://www.ptt.cc'+ url,\n",
    "        cookies={'over18':'1'}\n",
    "        )\n",
    "\n",
    "        soup = BeautifulSoup(resp.text.encode('utf-8'),'lxml')\n",
    "        if soup.find('title'):\n",
    "            title = soup.find('title').text    \n",
    "        else:\n",
    "            title = None\n",
    "\n",
    "        if soup.find('span',{'class':'article-meta-value'}):\n",
    "            author = soup.find('span',{'class':'article-meta-value'}).text\n",
    "        else:\n",
    "            author = None\n",
    "        return {'title':title,'author':author}\n",
    "\n",
    "\n",
    "    \n",
    "board ='Gossiping'\n",
    "page = 1\n",
    "\n",
    "crawler = PttCrawler(board,page)\n",
    "runn = crawler.run()\n",
    "print(runn)\n"
   ]
  },
  {
   "cell_type": "code",
   "execution_count": null,
   "metadata": {
    "collapsed": true
   },
   "outputs": [],
   "source": []
  }
 ],
 "metadata": {
  "kernelspec": {
   "display_name": "Python 3",
   "language": "python",
   "name": "python3"
  },
  "language_info": {
   "codemirror_mode": {
    "name": "ipython",
    "version": 3
   },
   "file_extension": ".py",
   "mimetype": "text/x-python",
   "name": "python",
   "nbconvert_exporter": "python",
   "pygments_lexer": "ipython3",
   "version": "3.5.2"
  }
 },
 "nbformat": 4,
 "nbformat_minor": 2
}
