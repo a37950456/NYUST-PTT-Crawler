{
 "cells": [
  {
   "cell_type": "code",
   "execution_count": 10,
   "metadata": {},
   "outputs": [
    {
     "name": "stdout",
     "output_type": "stream",
     "text": [
      "Requirement already satisfied: requests in /usr/lib/python3/dist-packages\r\n"
     ]
    }
   ],
   "source": [
    "!pip install --user requests"
   ]
  },
  {
   "cell_type": "code",
   "execution_count": 11,
   "metadata": {},
   "outputs": [
    {
     "name": "stdout",
     "output_type": "stream",
     "text": [
      "Requirement already up-to-date: beautifulsoup4 in ./.local/lib/python3.5/site-packages\n",
      "Requirement already up-to-date: lxml in ./.local/lib/python3.5/site-packages\n",
      "Requirement already up-to-date: html5lib==1.0b8 in ./.local/lib/python3.5/site-packages\n",
      "Requirement already up-to-date: six in ./.local/lib/python3.5/site-packages (from html5lib==1.0b8)\n"
     ]
    }
   ],
   "source": [
    "!pip install --user --upgrade beautifulsoup4 lxml html5lib==1.0b8"
   ]
  },
  {
   "cell_type": "code",
   "execution_count": 12,
   "metadata": {
    "scrolled": true
   },
   "outputs": [
    {
     "name": "stdout",
     "output_type": "stream",
     "text": [
      "['/bbs/Gossiping/M.1515047002.A.A05.html', '/bbs/Gossiping/M.1515047043.A.499.html', '/bbs/Gossiping/M.1515047074.A.EDD.html', '/bbs/Gossiping/M.1515047093.A.2ED.html', '/bbs/Gossiping/M.1510415718.A.D77.html', '/bbs/Gossiping/M.1514720863.A.84E.html', '/bbs/Gossiping/M.1514336396.A.B25.html', '/bbs/Gossiping/M.1514738804.A.4A0.html']\n"
     ]
    }
   ],
   "source": [
    "from bs4 import BeautifulSoup\n",
    "import requests\n",
    "url = \"https://www.ptt.cc/bbs/Gossiping/index.html\"\n",
    "resp = requests.get(\n",
    "    url,\n",
    "    cookies={'over18':'1'}\n",
    ")\n",
    "soup = BeautifulSoup(resp.text.encode(\"utf-8\"),\"lxml\")\n",
    "#print(soup.find('text'))\n",
    "#print(resp.text)\n",
    "\n",
    "gossip_list = soup.find('div',{'class','r-list-container action-bar-margin bbs-screen'})\n",
    "link_list = gossip_list.find_all('a')\n",
    "\n",
    "link_list = [link.get('href') for link in link_list]\n",
    "print(link_list)\n"
   ]
  },
  {
   "cell_type": "code",
   "execution_count": 13,
   "metadata": {},
   "outputs": [
    {
     "name": "stdout",
     "output_type": "stream",
     "text": [
      "[{'title': 'Re: [新聞] 電動機車電池規格 Gogoro化 - 看板 Gossiping - 批踢踢實業坊', 'author': 'afiend0927 (飛輪爵士)'}, {'title': 'Re: [新聞] 小豬餵飽飽！365存錢法\\u300013萬年終自己給 - 看板 Gossiping - 批踢踢實業坊', 'author': 'MJdavid (膽固醇歐吉桑)'}, {'title': '[問卦] 脫北的北韓士兵真的會一直爽下去嗎？ - 看板 Gossiping - 批踢踢實業坊', 'author': 'razghot1597 (TIGER)'}, {'title': '[新聞] 反對修惡勞基法\\u3000海外青年團體發起拍照 - 看板 Gossiping - 批踢踢實業坊', 'author': 'smallptt (Small .P.T.T.)'}, {'title': '[公告] 八卦板板規(2017.11.11) - 看板 Gossiping - 批踢踢實業坊', 'author': 'Kay731 (K少)'}, {'title': '[協尋] 新北市78歲婦人(代po) - 看板 Gossiping - 批踢踢實業坊', 'author': 'Unawakened (微瘦敏鎬)'}, {'title': 'Fw: [協尋] 12/24下午新北耶誕城廣場遺失鑽石項鍊 - 看板 Gossiping - 批踢踢實業坊', 'author': 'Kay731 (K少)'}, {'title': '閱讀文章 - 看板 Gossiping - 批踢踢實業坊', 'author': None}]\n"
     ]
    }
   ],
   "source": [
    "def fetchPost(url):\n",
    "    resp = requests.get(\n",
    "    'https://www.ptt.cc'+ url,\n",
    "    cookies={'over18':'1'}\n",
    "    )\n",
    "    \n",
    "    soup = BeautifulSoup(resp.text.encode('utf-8'),'lxml')\n",
    "    if soup.find('title'):\n",
    "        title = soup.find('title').text    \n",
    "    else:\n",
    "        title = None\n",
    "        \n",
    "    if soup.find('span',{'class':'article-meta-value'}):\n",
    "        author = soup.find('span',{'class':'article-meta-value'}).text\n",
    "    else:\n",
    "        author = None\n",
    "    return {'title':title,'author':author}\n",
    "\n",
    "post_list = [fetchPost(link) for link in link_list]  #前面有定義過link_list\n",
    "print(post_list)\n"
   ]
  },
  {
   "cell_type": "code",
   "execution_count": 14,
   "metadata": {},
   "outputs": [
    {
     "name": "stdout",
     "output_type": "stream",
     "text": [
      "/bbs/Gossiping/index31349.html\n",
      "['/bbs/Gossiping/M.1515046310.A.726.html', '/bbs/Gossiping/M.1515046318.A.963.html', '/bbs/Gossiping/M.1515046323.A.3C1.html', '/bbs/Gossiping/M.1515046360.A.853.html', '/bbs/Gossiping/M.1515046394.A.EDB.html', '/bbs/Gossiping/M.1515046402.A.A80.html', '/bbs/Gossiping/M.1515046422.A.AD5.html', '/bbs/Gossiping/M.1515046569.A.3B8.html', '/bbs/Gossiping/M.1515046579.A.49F.html', '/bbs/Gossiping/M.1515046680.A.788.html', '/bbs/Gossiping/M.1515046691.A.614.html', '/bbs/Gossiping/M.1515046725.A.65C.html', '/bbs/Gossiping/M.1515046736.A.323.html', '/bbs/Gossiping/M.1515046753.A.456.html', '/bbs/Gossiping/M.1515046831.A.AD8.html', '/bbs/Gossiping/M.1515046856.A.5CA.html', '/bbs/Gossiping/M.1515046915.A.BF8.html', '/bbs/Gossiping/M.1515046920.A.0B3.html', '/bbs/Gossiping/M.1515046956.A.30E.html', '/bbs/Gossiping/M.1515046967.A.C56.html']\n"
     ]
    }
   ],
   "source": [
    "def getlist(url):\n",
    "    resp = requests.get(\n",
    "    url,\n",
    "    cookies={'over18':'1'}\n",
    "    )\n",
    "    #print(resp.request.url)\n",
    "    soup = BeautifulSoup(resp.text.encode('utf-8'),'lxml')\n",
    "    get_list5 = soup.find('div',{'class',\"r-list-container action-bar-margin bbs-screen\"})\n",
    "    link_list5 = get_list5.find_all('a')\n",
    "    return link_list5 \n",
    "\n",
    "def getprevious(url):\n",
    "    resp = requests.get(\n",
    "    url,\n",
    "    cookies={'over18':'1'}\n",
    "    )\n",
    "    soup = BeautifulSoup(resp.text.encode('utf-8'),'lxml')\n",
    "    get_previous_list5 = soup.find('div',{'class','btn-group btn-group-paging'})\n",
    "    link_list_previous = get_previous_list5.find_all('a')[1].get('href')   #zzz[]  <<陣列名稱\n",
    "    return link_list_previous\n",
    "\n",
    "list5 = getprevious(url)\n",
    "print(list5)\n",
    "post_list5 = [l.get('href') for l in getlist('https://www.ptt.cc'+list5)]\n",
    "print(post_list5)"
   ]
  },
  {
   "cell_type": "code",
   "execution_count": 25,
   "metadata": {
    "scrolled": true
   },
   "outputs": [
    {
     "name": "stdout",
     "output_type": "stream",
     "text": [
      "[{'title': '[問卦] 甲甲為什麼都很壯 - 看板 Gossiping - 批踢踢實業坊', 'content': '如題\\n\\n本肥發現\\n\\n很多甲甲都超壯的\\n\\n然後fb大頭貼都會放穿著吊嘎的照片\\n\\n然後看起來都壯的跟熊一樣\\n\\n有沒有為什麼甲甲普遍都很壯的卦\\n\\n--', 'author': 'wertabcmk (學店魯宅)', 'time': 'Thu Jan  4 14:51:00 2018'}, {'title': 'Re: [問卦] 周芷若如果去開直播可以收多少斗內 - 看板 Gossiping - 批踢踢實業坊', 'content': '現在直播平台那麼多 up 17 浪 twitch YouTube\\n\\n甚至龍珠 鬥魚等等 說有多少就有多少\\n\\n如果她像你說的長得不錯又言之有物\\n\\n依她現在的薪水早就去那些平台開播爽賺了\\n\\n為什麼偏偏選在沒抖內功能的臉書呢\\n\\n她這不就證明了她沒以上你所說的特點了～\\n\\n\\n\\n引述《yamakazi (大安吳彥祖)》之銘言：', 'author': 'ting293 (婷~)', 'time': 'Thu Jan  4 14:51:17 2018'}, {'title': 'Re: [問卦] \"窮有窮的養法\"大家認同嗎? - 看板 Gossiping - 批踢踢實業坊', 'content': '', 'author': 'siriusc (慟!肥宅老鳥)', 'time': 'Thu Jan  4 14:51:54 2018'}, {'title': '[問卦] 以下手機用一年後，哪種不能接受？ - 看板 Gossiping - 批踢踢實業坊', 'content': '以下手機優缺點 哪些不能接受？\\n\\n1.\\n缺點：一出事，體驗-常山趙子龍-七進七出維修部門\\n優點：便宜\\n\\n2.\\n缺點：半年內螢幕黃光、溢光、受潮\\n優點：喇叭、相機強\\n\\n3.\\n缺點：5k的規格12k的價格，但使用上沒什麼問題\\n優點：萬年不更新、外觀很潮\\n\\n4.\\n缺點：所有資料都秘密回傳到大陸，使用上沒什麼問題\\n優點：便宜、人性ui、電量大、各種輕鬆改機的遊戲機\\n\\n5.\\n缺點：一年後，主機板壞掉直接不能用\\n優點：喇叭好、相機好\\n\\n6.\\n缺點：一年後，觸控失靈幾乎無法使用\\n優點：適合下巴控\\n\\n7.\\n缺點：一年後，要繳2590保護費，不然限速你\\n優點：潮、順（一年）、各種重新定義規格、相機好\\n\\n8.\\n缺點：隨時要有爆炸的心理準備，良好的使用方式\\n優點：外觀漂亮、順、能超頻、相機頂尖、合法手榴彈\\n\\n\\n手機百百種，有些一年後直接不能用，有些會發熱爆炸\\n有些你不換電池或手機，就讓你lag到發寒\\n\\n但哪種比較不能接受？\\n\\n-----\\nSent from JPTT on my iPhone\\n\\n--', 'author': 'Lucky0105 (洋)', 'time': 'Thu Jan  4 14:52:21 2018'}, {'title': '[問卦] 空污會讓人民越來越支持核電嗎 - 看板 Gossiping - 批踢踢實業坊', 'content': '為了反核能\\n\\n空氣品質每況愈下\\n\\n整個台灣已經快印度化\\n\\n與其這種空氣\\n\\n不如繼續維持核能發電+啟用核四\\n\\n這樣不只能解決企業因為缺電不敢大量投資\\n\\n也能讓空氣品質變好\\n\\n日本發生這麼大的核災\\n\\n現在也開始啟用核電了\\n\\n台灣還看不透這趨勢嗎？\\n\\n--', 'author': 'InMoDa (淫魔大)', 'time': 'Thu Jan  4 14:52:26 2018'}, {'title': '[新聞] 歐陽娜娜再提休學風波:學習是一輩子 不是 - 看板 Gossiping - 批踢踢實業坊', 'content': '1.媒體來源:\\n中時電子報\\n\\n2.完整新聞標題:\\n歐陽娜娜再提休學風波：學習是一輩子 不是只能在學校\\n\\n3.完整新聞內文:\\n歐陽娜娜接受新一期《VOGUE》雜誌訪問，提到2年多前因為選擇休學轉戰演藝圈，引起一\\n陣嘩然，她說：「學習是一件在哪都可以做的事情，而且它是一輩子的，不是只能在學校\\n。」歐陽娜娜感謝所有人對她的關心，但也同時納悶不解，明明只是很單純的一個想法，\\n只是對自己生活的一個決定，怎麼被放大成這樣了呢。\\n\\n她從小其實就有很多演戲的機會，但從來不曾動心，甚至覺得自己應該不會從事演藝工作\\n，後來因為考上柯蒂斯音樂學院，就學之前剛好沒事，又剛好有戲找來，導演甚至願意把\\n角色改成拉大提琴的女生，於是就這麼在天時地利人和之下，拍了她的第一部戲。之後沒\\n想太多繼續回去讀書，過程中邀約不斷，然後有一天，在開學前，她突然跟父母說自己想\\n要休學想法。\\n\\n「其實也不算是突然，因為我已經自己在那想了大概有個大半年吧，很猶豫也很忐忑啊，\\n每個人連做個小小的決定都難，何況是這種會影響到人生的大決定。我當時的想法是，如\\n果有這麼多可以去闖一闖的機會，我為什麼不去試試看，因為我總覺得學習是一件在哪都\\n可以做的事情，而且它是一輩子的，不是只能在學校，不是你畢業之後，就可以不用再學\\n任何東西」。\\n\\n「一直以來，我都是一個沒有什麼主見的人，也沒有什麼想法，我的生活反正就是不斷的\\n練琴，所以事實上也沒有什麼事情需要我去做決定，需要有想法，可是那一刻，我很想要\\n給自己一個機會，去看看外面的世界。在得到父母的支持之後，我對自己說，不管這個決\\n定是對是錯，不管有人沒有找我拍戲，不管未來會怎麼樣，我都不能有後悔，因為我覺得\\n所有事情的發生，一定有它的原因；因為至少，我嘗試了」。\\n\\n會想念那曾經的單純嗎？她說當然會啊，但覺得單純這種東西是已經回不去的了，「因為\\n當你知道這個世界長什麼樣子之後，你沒有辦法忘掉你經歷過的任何一個事情，包括你經\\n歷過網友對你的一些批評也好，或者愛，都是你已經接收到的，是不可能忘掉或丟掉的」\\n。\\n\\n她同時不喜歡去預設自己的未來，反正就是順著走的，接受任何的事情。「有句話雖然很\\n慫，說開心是一天，不開心也是一天，但我真覺得每一句很慫的話都是最有用的，就像每\\n個人都一定會遇到挫折，一個接一個的，不會斷的，難道就因此要每天苦著臉嗎，還是要\\n開心的過啊」。\\n\\n4.完整新聞連結 (或短網址):', 'author': 'dinex ()', 'time': 'Thu Jan  4 14:53:13 2018'}, {'title': '[問卦] 為啥風雲裡面步驚雲能有麒麟跟絕世好劍 - 看板 Gossiping - 批踢踢實業坊', 'content': '', 'author': 'qe465 (世紀末肥宅)', 'time': 'Thu Jan  4 14:53:37 2018'}, {'title': '[問卦] 台服 vs 國外伺服 - 看板 Gossiping - 批踢踢實業坊', 'content': '是說\\n\\n國外的遊戲\\n\\n到了台灣\\n\\n由於為了配合風俗民情\\n\\n都會變成殺雞取卵式的營運模式\\n\\n譬如\\n\\n抽卡這回事\\n\\n機率就給你減半或是乘上0.1\\n\\n然後有鑒於台人的盤子個性\\n\\n通常就是一個大爆抽之後崩潰\\n\\n最後再棄坑換個遊戲繼續當盤子\\n\\n\\n所以不同伺服器，同等級的卡片\\n價值在台灣應該可以翻個十倍左右吧\\n\\n不過盤子為什麼不乖乖玩國外伺服呢\\n\\n咱就不懂啦\\n\\n--', 'author': 'Ericz7000 (喵喵可愛貓娘女僕長)', 'time': 'Thu Jan  4 14:54:18 2018'}, {'title': '[新聞] 中部霾害！民嘆活不久  環署：會往北部쐱 - 看板 Gossiping - 批踢踢實業坊', 'content': 'ETtoday新聞雲\\n\\n\\n2.完整新聞標題:\\n中部霧霾蓋天！民嘆「我可能活不久了」\\u3000環保署：會往北部飄\\n\\n\\n3.完整新聞內文:\\n生活中心／綜合報導\\n\\n快看不到了！中南部的空氣從昨晚至今整片霧茫茫，遠方的大樓都直接現在霧中，連高速\\n公路上的駕駛都紛紛打開大燈行駛，讓民眾都直呼，「我可能活不久了」。\\n\\n「都不敢出門了！」行政院環保局觀測站顯示，竹苗、中部、雲嘉南及高屏地區空氣品質\\n皆為「紅色警示」。讓許多一早出門上班的民眾都被眼前濃濃的霧氣給嚇到，甚至連高掛\\n天空的太陽都被灰霧擋住。\\n\\n環保署表示，由於台西半部擴散能力差，上述8個地區空氣品質才會「亮紅燈」；而北部\\n的地區則為「普通」、宜蘭、花東空品區及金門、澎湖為「良好」。全國77站中「紅色警\\n示」21站，「橘色提醒」16站，「普通」11站，「良好」27站，「設備維護」2站。\\n\\n環保局指出，台灣海峽上空出現渦流現象，使得空氣污染持續累積以及跨縣市往北輸送，\\n北部空品區要提防污染物傳輸造成空氣品質轉差，可能出現「橘色提醒（對敏感族群不健\\n康）」的等級，甚至部分地區可能出現「紅色警示」。預估空氣品質在入夜後東北風增強\\n及南方雲系北移之後可以逐漸改善。\\n\\n網友看完紛紛留言，「在家都要開空氣清淨機」、「重點肝癌跟空氣污染PM2.5有關，想\\n逼死台中人嗎」、「早上出門，我以為是我眼睛有問題」、「整個黑的太誇張了吧」、「\\n我去買菜還有賣菜的還跟我說快下雨了」。\\n\\n\\n4.完整新聞連結 (或短網址):', 'author': 'NKUHT (天大地大)', 'time': 'Thu Jan  4 14:55:01 2018'}, {'title': '[問卦] 公司找到人，要怎麼通知沒錄取的人？ - 看板 Gossiping - 批踢踢實業坊', 'content': '公司找到合適的人選，也通知他來上班了\\n那要怎樣回覆那些沒錄取的人？\\n\\n因為是小公司，沒有專職的HR人員\\n所以沒有範本', 'author': 'pchunters123 (pp表接受。和感謝，「今)', 'time': 'Thu Jan  4 14:55:59 2018'}, {'title': '[問卦] 男男肛交是不是世界上最爽的事情 - 看板 Gossiping - 批踢踢實業坊', 'content': '昨天有人分享愛滋數據\\n\\n2017年很遺憾的又有兩千個甲甲染愛滋\\n\\n為什麼會有一群人\\n\\n知道會染上惡疾仍然拼命肛交呢\\n\\n小胖我想\\n\\n唯一的解釋可能是真的很爽\\n\\n男男肛交的爽度能夠超越對不治之症的恐懼\\n\\n\\n男男肛交是不是真的很爽\\n\\n求專業鄉民分享心得\\n\\n--', 'author': 'CuteGG (GG)', 'time': 'Thu Jan  4 14:56:09 2018'}, {'title': '[新聞] 暌違20年 去年機車狂賣百萬輛 - 看板 Gossiping - 批踢踢實業坊', 'content': '1.媒體來源:中時\\n\\n光陽、山葉雙雄駁火，去年12月機車市場衝出11.3萬輛鉅量，改寫單月新高紀錄，推升全\\n年機車內銷總量飆破百萬輛，重現20年前台灣「百萬機車王國」的榮景。光陽2017年以\\n37.5萬輛的新高成績，締造內銷18連霸的新里程碑；三陽去年繳出年增22.7％的成績，年\\n度市占重返2成大關。\\n\\n展望2018年，業者預期舊換新補貼政策持續發酵，政府嚴格取締二行程機車，加速老舊機\\n車退場換購新車，及預期今年底前還有一波搶購五期低價車的買氣衝出下，全年機車市場\\n規模沒有90萬也有85萬輛，仍將居歷史高點。\\n\\n受今年起新車須符合六期環保新規的影響，光陽宣布兩款入門機車Cue 100與GP 125漲價\\n2000元反應成本；台灣山葉也對經銷商端宣布，取消購車3000元的補助變相漲價，其他車\\n商也不排除跟進。業者認為，這波小漲價將作為測試市場反應的風向球，也有利經銷商手\\n上庫存車加速出清。\\n\\n根據監理所資料，去年12月機車新領牌總數達11.3萬輛、年增59.18％，遠優於預期的7萬\\n～8萬輛。業者透露，12月原本為市場淡季，但由於台灣山葉突襲宣布Ray125降價1萬元促\\n銷，光陽為捍衛龍頭地位，也加入搶單行列，推升12月市場暴衝創紀錄。\\n\\n最終光陽以700輛的些微差距，驚險保住12月市場龍頭地位，山葉以0.6個百分點的市占差\\n距飲恨居第二，但雙方的市占率差距來到近年最小的一次。\\n\\n此外，業者認為，去年第4季起，燃油與電動機車業者紛紛操作新年機車將漲價議題，話\\n術包括補助減碼、六期環保上路成本增加，加上行政院宣布2035年禁售燃油機車的政策，\\n發揮臨門一腳的功效，激發民眾換購的意願，也是第4季機車銷量未如以往減少，反而呈\\n現「月月高」的熱絡。', 'author': 'prog (感恩seafood)', 'time': 'Thu Jan  4 14:56:52 2018'}, {'title': '[問卦] 為啥全家超商有貨，卻不賣呢？ - 看板 Gossiping - 批踢踢實業坊', 'content': '半夜睡著跑去超商，喝飲料打手遊\\n順便等物流車抵達，買個最近熱門的\\n戽斗星球公仔磁鐵\\n天亮了，物流也來了\\n\\n我打手遊快2個小時，\\n店員說只有一組\\n在三跟店員確認，真的只有一組嗎？\\n還跟我說：對! 一組\\n\\n以為我不知道資訊嗎？ 今天每間店就配三組\\n\\n廣大的網友，有人知道另外兩組是怎麼了嗎？\\n是不是店員想自肥？\\n\\n\\n\\n--', 'author': 'ej04cl6 (愛上妳的可愛)', 'time': 'Thu Jan  4 14:57:41 2018'}, {'title': 'Re: [問卦] \"窮有窮的養法\"大家認同嗎? - 看板 Gossiping - 批踢踢實業坊', 'content': '', 'author': 'COCOCCC (COCOCCC)', 'time': 'Thu Jan  4 14:57:43 2018'}, {'title': '[問卦] 北部丹丹是漢堡王嗎？ - 看板 Gossiping - 批踢踢實業坊', 'content': '北部吃不到丹丹\\n\\n只有漢堡王 最南邊的漢堡王且還在竹科裡面\\n\\n雖然丹丹便宜 但是漢堡王吃過之後就覺的丹丹很普\\n\\n根本就早餐店的漢堡拿來賣= =\\n\\n北部人是不是有漢堡王就 滿足了呢？\\n\\n\\n\\n\\n\\n\\n--', 'author': 'YYYuMan (木瓜汁城)', 'time': 'Thu Jan  4 14:58:30 2018'}, {'title': '[問卦] 為何9.2特別強調讚揚832 古寧頭戰役  - 看板 Gossiping - 批踢踢實業坊', 'content': '話說\\n\\n9.2一直自豪且特別強調古寧頭戰役  823砲戰\\n\\n戰勝惹共軍\\n\\n但是在總體的戰爭中\\n\\n這兩個戰役只是沒有能影響大局的小戰役\\n\\n畢竟在贏之前  已經丟惹整個99%的中國惹\\n\\n有沒有9.2特別強調古寧頭戰役  823砲戰  卻不特別強調丟掉99%中國?', 'author': 'liang691206 (liang691206)', 'time': 'Thu Jan  4 14:58:50 2018'}, {'title': 'Re: [新聞] 西門町播放央視廣告 柯文哲：需平等！台 - 看板 Gossiping - 批踢踢實業坊', 'content': '', 'author': 'acer4545 (acer4545)', 'time': 'Thu Jan  4 14:58:58 2018'}, {'title': '[問卦] 被老師說難怪交不到女朋友怎麼辦 - 看板 Gossiping - 批踢踢實業坊', 'content': '餓死抬頭\\n\\n今天實驗室吃飯\\n\\n大家聊天聊得很開心\\n\\n聊到老師轉蛋給女兒的話題時\\n\\n\\n\\n老師突然冒出一句\\n\\n「你連這個都不知道，難怪你沒有女朋友」\\n\\n\\n\\n有沒有論文寫不出來，又被老師嘴交不到女朋友要怎麼辦的八卦\\n\\n--', 'author': 'Zundel (・ω＋)⊃—☆*Explosion)', 'time': 'Thu Jan  4 14:59:39 2018'}, {'title': '[問卦] 雙鏡頭有啥好處嗎？ - 看板 Gossiping - 批踢踢實業坊', 'content': '一堆廣告在寫雙鏡頭多好\\n\\n仔細查卻沒啥說明  什麼距離深度 銳利 亮光補償\\n\\n有沒有高手教一下？\\n\\n\\n\\n\\n\\n\\n\\n\\n--', 'author': 'zxc5960848 (放空小勝)', 'time': 'Thu Jan  4 15:00:19 2018'}, {'title': '[ＦＢ] 周芷萱 錢賺得少 沒生活品質 生氣氣 - 看板 Gossiping - 批踢踢實業坊', 'content': '錢賺得少沒有生活品質真的是生氣氣\\n\\n性別平權之女性主義者錢賺這麼少會是父權遺毒嗎！？\\n\\n周芷萱\\n\\n我到底幹嘛這麼認真...居然為了這個弄到兩點半...\\n\\n每次都被鍵盤省錢的人氣到，今天乾脆把基本開支算了一算。這當然不是我的生活方式，我才不會這樣對自己。\\n\\n就算每天餐費只抓250，住永和蝸居套房，一個月也頂多就存下7000。這種物價的時代，7000是能做什麼？還想養孩子或結婚？別想了吧。\\n\\n要是什麼都不能做，什麼生活品質都沒有，到底活著做什麼？工作應該是為了讓我們有想要的生活，不是把人綁死，活的不像人樣。', 'author': 'ting293 (婷~)', 'time': 'Thu Jan  4 15:01:03 2018'}, {'title': '[公告] 八卦板板規(2017.11.11) - 看板 Gossiping - 批踢踢實業坊', 'content': '╭─────────────────────────────────────╮\\n│ 本板為PTT八卦板，文章、推文及板務處理原則均依循中華民國法律、站規規範發\\u3000│\\n│ 文者，不得因不知相關板規而免卻責任。                                     │\\n╰─────────────────────────────────────╯', 'author': 'Kay731 (K少)', 'time': 'Sat Nov 11 23:55:13 2017'}, {'title': '[協尋] 新北市78歲婦人(代po) - 看板 Gossiping - 批踢踢實業坊', 'content': '阿嬤離家後失蹤了\\n天氣很冷 希望阿嬤能快點回家\\n\\n-', 'author': 'Unawakened (微瘦敏鎬)', 'time': 'Sun Dec 31 19:47:40 2017'}, {'title': 'Fw: [協尋] 12/24下午新北耶誕城廣場遺失鑽石項鍊 - 看板 Gossiping - 批踢踢實業坊', 'content': '', 'author': 'Kay731 (K少)', 'time': 'Wed Dec 27 08:59:55 2017'}, {'title': '閱讀文章 - 看板 Gossiping - 批踢踢實業坊', 'content': None, 'author': None, 'time': None}, {'title': '[問卦] 台甲對台灣有什麼貢獻 - 看板 Gossiping - 批踢踢實業坊', 'content': '如題\\n\\n大家覺得\\n\\n台甲對台灣 有什麼益處啊\\n\\n我是想到一點啦\\n\\n就是 對愛滋研究 貢獻良多\\n\\n畢竟 有穩定且大量的病人檢體 臨床資訊\\n\\n對疾病研究是很重要的\\n\\n台甲每年貢獻兩千多個新的HIV case\\n\\n真是太偉大了\\n\\n不像日本甲\\n\\n小氣的要命\\n\\n每年貢獻七百個新的愛滋甲而已\\n\\n虧他們人口還是我們的五倍咧\\n\\n大家給台甲拍拍手\\n\\n好噗好？\\n\\n--', 'author': 'Blopress (UCCU)', 'time': 'Thu Jan  4 14:39:03 2018'}, {'title': 'Re: [新聞] 王炳忠手札出現「黨政局今年5百萬，下修3 - 看板 Gossiping - 批踢踢實業坊', 'content': '', 'author': 'powerguy (屁蓋)', 'time': 'Thu Jan  4 14:39:36 2018'}, {'title': '[問卦] 周芷若如果去開直播可以收多少斗內 - 看板 Gossiping - 批踢踢實業坊', 'content': '我覺得周芷若長得還不錯\\n\\n當過學生會長\\n\\n名校文組畢業\\n\\n講東西還算言之有物\\n\\n內容同不同意就再說\\n\\n她如果肯去開直播的話\\n\\n斗內可以收多少啊\\n-----\\nSent from JPTT on my iPhone\\n\\n--', 'author': 'yamakazi (大安吳彥祖)', 'time': 'Thu Jan  4 14:39:48 2018'}, {'title': '[問卦] 日本天皇是魚類學家 這樣算理組治國嗎？ - 看板 Gossiping - 批踢踢實業坊', 'content': '天皇雖然沒有實質的權利\\n不過仍然是日本人心中的精神領袖\\n或者說是日本國的吉祥物\\n現在的天皇身為魚類學家 甚至論文曾經登上science\\n這樣算是理組治國的一種嗎？\\n有掛嗎？\\n\\n--', 'author': 'st093 (橘 真琴)', 'time': 'Thu Jan  4 14:40:25 2018'}, {'title': '[問卦] \"窮有窮的養法\"大家認同嗎? - 看板 Gossiping - 批踢踢實業坊', 'content': '今天看一則新聞說\"低薪養不起\\u3000家庭月入78000才敢生小孩\"', 'author': 't00750 ()', 'time': 'Thu Jan  4 14:40:54 2018'}, {'title': 'Re: [新聞] 警揮長棍當街屠殺黃金獵犬\\u3000因為沒有麻醉 - 看板 Gossiping - 批踢踢實業坊', 'content': '看到這個新聞與反應\\n\\n很好奇為什麼有人相信眾多兇猛的獅子老虎等大貓會有溫馴不咬人的一面\\n\\n卻不相信和善憨呆的黃金獵犬也會有發狂咬人的時候\\n\\n有沒有造成這種差異的八卦?\\n\\n--', 'author': 'liu2007 (薯)', 'time': 'Thu Jan  4 14:41:08 2018'}, {'title': 'Re: [新聞] 月底出訪歐洲 柯P自爆：土耳其要送我們一 - 看板 Gossiping - 批踢踢實業坊', 'content': '', 'author': 'bboring (甲級建築師)', 'time': 'Thu Jan  4 14:41:16 2018'}, {'title': '[問卦] 有沒有加入黑暗料理界要注意什麼的八卦? - 看板 Gossiping - 批踢踢實業坊', 'content': '如題\\n\\n本肥決定要加入黑暗料理界了!!!\\n\\n就算鄉民們報警也沒用!!! 肥宅我就是鐵了心要加入黑暗料理界!!!\\n\\n那麼加入黑暗料理界有要注意什麼的呢???\\n\\n有八卦嗎!!!???\\n\\n--', 'author': 'ex250203 (我是肥宅我驕傲)', 'time': 'Thu Jan  4 14:41:56 2018'}, {'title': 'Re: [新聞]北韓今日又撥打熱線！南韓24小時內接到3通 - 看板 Gossiping - 批踢踢實業坊', 'content': '', 'author': 'angellll (長尾巴的天使)', 'time': 'Thu Jan  4 14:42:14 2018'}, {'title': 'Re: [新聞] 場外休憩區笑罵她「母豬」！台南女提告16 - 看板 Gossiping - 批踢踢實業坊', 'content': '我比較好奇\\n\\n16歲少年的媽媽收到判決書是什麼反應\\n\\n順便問問\\n\\n有多少人的媽媽知道自己兒子每天都在網上聲張正義\\n\\n對不合乎道德價值的女性以母豬撻伐之？\\n\\n會引以為榮嗎？\\n\\n--', 'author': 'sechan (呼.......)', 'time': 'Thu Jan  4 14:43:20 2018'}, {'title': '[問卦] 台北人是不是很衰阿？ - 看板 Gossiping - 批踢踢實業坊', 'content': '跨年夜，東北風強的時候，有中國吹來的霧霾\\n空氣好不到幾天\\n今天大氣擴散不好，又有台灣低端地區飄來的髒空氣\\n住天龍國是不是很衰\\n有卦嗎？\\n\\n\\n--', 'author': 'Cha23Cha (科大果真有差)', 'time': 'Thu Jan  4 14:44:03 2018'}, {'title': '[新聞]《天堂M》苦主現身，說爛橘子害他砸220萬 - 看板 Gossiping - 批踢踢實業坊', 'content': '1.媒體來源:', 'author': 'superLM (有球必硬)', 'time': 'Thu Jan  4 14:43:53 2018'}, {'title': '[問卦] 裝COSTCO碎洋蔥回家都是那些人？ - 看板 Gossiping - 批踢踢實業坊', 'content': '剛剛去COSTCO吃熱狗，前面的大叔拿著飲料杯裝了滿滿的碎洋蔥。\\n一杯不夠後來又裝了兩大盤紙盤。\\n回到座位看到夫妻倆要了六張鋁箔紙，現場分裝藍色PRIME等級牛排。\\n都能買到幾千PRIME等級的牛排，為什麼會想省洋蔥和分裝用小塑膠袋的錢啊？阿魯實在\\n想不透。\\n\\n到底會到COSTCO拿洋蔥回家都是哪個族群的人呢?(這次是年約50~60中年夫妻)\\n有沒有他們心態是什麼得八卦？\\n\\n--', 'author': 'saosinsaosin (不要問)', 'time': 'Thu Jan  4 14:44:45 2018'}, {'title': 'Re: [問卦] 到底是哪部 - 看板 Gossiping - 批踢踢實業坊', 'content': '有個傢伙離鄉背井去從軍\\n\\n\\n在參加訓練兵入團儀式時啃著馬鈴薯\\n\\n\\n被發現後還依依不捨的分了一半要給教官吃……\\n\\n\\n她到底是有多餓啊？\\n\\n\\n\\n--\\n\\n\\u3000\\u3000想要傳達這份愛，想要為你而活著——', 'author': 'rickey1270 (我大奈亞子毫無死角！！)', 'time': 'Thu Jan  4 14:45:30 2018'}, {'title': '[問卦] 臺北捷運站名怎麼都在誤導民眾！? - 看板 Gossiping - 批踢踢實業坊', 'content': '原本想去新店區公所找替代役朋友\\n結果搭捷運到新店區公所站才知道\\n新店區公所根本在七張捷運站\\n這比士林夜市不在士林站還過分\\n有沒有八卦?\\n\\n\\n--', 'author': 'shirleyEchi (雪米菓)', 'time': 'Thu Jan  4 14:45:41 2018'}, {'title': '[問卦] 魔羯男的個性是什麼☺☺☺ - 看板 Gossiping - 批踢踢實業坊', 'content': '蛇蛇我沒研究星座\\n\\n但是聽說摩羯男悶燒☺☺☺\\n\\n而且很擅長隱藏自己的性格☺☺☺\\n\\n摩羯男的個性還有其他特點嗎？\\n\\n有沒有其他相關八卦呢☺☺☺☺\\n\\n--', 'author': 'k543k5 (養樂多)', 'time': 'Thu Jan  4 14:46:14 2018'}, {'title': '[新聞] CPU漏洞！英特爾：一般使用者影響不顯著 - 看板 Gossiping - 批踢踢實業坊', 'content': '三立\\n\\nCPU爆漏洞！英特爾：對於一般使用者影響不顯著', 'author': 'pautaid (芝麻包)', 'time': 'Thu Jan  4 14:46:24 2018'}, {'title': '[問卦] 為什麼發電廠外面不蓋個濾網包起來？ - 看板 Gossiping - 批踢踢實業坊', 'content': '發電廠跟工廠外圍自己為何不蓋蓋個濾網把自己產出的髒空氣自己濾掉，\\n\\n要不然蓋個罩子罩住自己把髒空氣自己吸收啊，為什麼要外擴出去讓大家吸？相信蓋個罩\\n子水泥牆不用多少錢，愛生產多少空污就生產多少，不用整個中南部陪葬\\n\\n為何工廠發電廠不蓋濾網自己吸收？\\n\\n--', 'author': 'kklljim ()', 'time': 'Thu Jan  4 14:47:47 2018'}, {'title': '[問卦] 如果戰敗軍沒來台灣 現在台灣會怎樣 - 看板 Gossiping - 批踢踢實業坊', 'content': '我認為打贏打輸一回事 往哪逃去也一回事\\n\\n到了又各種胡搞 就真的不行\\n\\n\\n如果當初打輸的一方不是撤退到台灣\\n\\n沒有來佔據這塊土地的話\\n\\n現在台灣會怎樣 我們又會如何呢\\n\\n\\n\\n-----\\nSent from JPTT on my Asus ASUS_Z012DA.\\n\\n--', 'author': 'qazqazqaz13 (章魚哥)', 'time': 'Thu Jan  4 14:49:11 2018'}, {'title': 'Re: [問卦] 飛機自動駕駛總共幾行code? - 看板 Gossiping - 批踢踢實業坊', 'content': 'while (AutoPilot) {\\n  CurrentLocation = GetGurrentLocation ();\\n  Path                     = ReadingFlyingPath ();\\n  FixAirline (CurrentLocation, Path); //修正航線\\n  AutoPilot = IsEndAutoPilot ();\\n}\\n\\n總共六行程式碼 前提是子程式\\nGetGurrentLocation (),\\nReadingFlyingPath (),\\nFixAirline (),\\nIsEndAutoPilot ()\\n要先寫好\\n\\n至於宣告那些 就不特別寫出來了 請自行定義\\n-----\\nSent from JPTT on my iPhone\\n\\n--', 'author': 'cosmite (K)', 'time': 'Thu Jan  4 14:50:36 2018'}]\n"
     ]
    }
   ],
   "source": [
    "import json\n",
    "\n",
    "class PttCrawler:\n",
    "    \n",
    "    def __init__(self, board, page, write=False):\n",
    "        self.ptt_url = 'https://www.ptt.cc'\n",
    "        self.board = board\n",
    "        self.page = page\n",
    "        \n",
    "        self.session = requests.Session()\n",
    "        self.session.cookies.update({\n",
    "            'over18':'1'\n",
    "        })\n",
    "        \n",
    "        self.write = write\n",
    "        \n",
    "    def run(self):\n",
    "        post_link_list=[]\n",
    "        url = self.ptt_url + '/bbs/' + self.board\n",
    "        for page in range(0,self.page):\n",
    "            if (len(post_link_list)==0):\n",
    "                post_link_list = self.fetchPostLinkList(url)\n",
    "            else:\n",
    "                post_link_list.extend(self.fetchPostLinkList(url))\n",
    "            url = 'http://www.ptt.cc'+self.getprevious(url)\n",
    "    #    print(\"=========\")\n",
    "    #    print (post_link_list)\n",
    "        post_list = [self.fetchPost(post_link) for post_link in post_link_list]\n",
    "        \n",
    "        return post_list\n",
    "    \n",
    "    def fetchPostLinkList(self,url):\n",
    "        if not url.startswith('http'):\n",
    "            url = self.ptt_url + url\n",
    "            \n",
    "        resp = self.session.get(\n",
    "        url\n",
    "        )\n",
    "        \n",
    "        soup = BeautifulSoup(resp.text.encode('utf-8'),'lxml')\n",
    "        #print(url)\n",
    "        post_list = soup.find('div',{'class','r-list-container action-bar-margin bbs-screen'})\n",
    "        link_list = [tag.get('href') for tag in post_list.find_all('a')]\n",
    "        \n",
    "        return link_list\n",
    "    \n",
    "    def fetchPost(self,url):     #拿內容\n",
    "        resp = requests.get(\n",
    "        'https://www.ptt.cc'+ url,\n",
    "        cookies={'over18':'1'}\n",
    "        )\n",
    "\n",
    "        soup = BeautifulSoup(resp.text.encode('utf-8'),'lxml')\n",
    "        if soup.find('title'):\n",
    "            title = soup.find('title').text    \n",
    "        else:\n",
    "            title = None\n",
    "\n",
    "        if soup.find('span',{'class':'article-meta-value'}):\n",
    "            author = soup.find_all('span',{'class':'article-meta-value'})[0].text\n",
    "        else:\n",
    "            author = None\n",
    "            \n",
    "        if soup.find_all('span',{'class':'article-meta-value'}):\n",
    "            time = soup.find_all('span',{'class':'article-meta-value'})[3].text\n",
    "        else:\n",
    "            time = None\n",
    "        if soup.find_all('div',{'class':'article-metaline'}):\n",
    "            temp = soup.find_all('div',{'class':'article-metaline'})[-1]\n",
    "            content = temp.next_sibling.strip()\n",
    "        else:\n",
    "            content = None\n",
    "        return {'title':title,'author':author,'time':time, 'content':content}\n",
    "        \n",
    "\n",
    "    def getprevious(self,url):\n",
    "        resp = requests.get(\n",
    "        url,\n",
    "        cookies={'over18':'1'}\n",
    "        )\n",
    "        soup = BeautifulSoup(resp.text.encode('utf-8'),'lxml')\n",
    "        get_previous_list5 = soup.find('div',{'class','btn-group btn-group-paging'})\n",
    "        link_list_previous = get_previous_list5.find_all('a')[1].get('href')   #zzz[]  <<陣列名稱\n",
    "        return link_list_previous\n",
    "\n",
    "board ='Gossiping'\n",
    "page = 2\n",
    "\n",
    "crawler = PttCrawler(board,page)\n",
    "runn = crawler.run()\n",
    "print(runn)\n"
   ]
  },
  {
   "cell_type": "code",
   "execution_count": null,
   "metadata": {
    "collapsed": true
   },
   "outputs": [],
   "source": []
  }
 ],
 "metadata": {
  "kernelspec": {
   "display_name": "Python 3",
   "language": "python",
   "name": "python3"
  },
  "language_info": {
   "codemirror_mode": {
    "name": "ipython",
    "version": 3
   },
   "file_extension": ".py",
   "mimetype": "text/x-python",
   "name": "python",
   "nbconvert_exporter": "python",
   "pygments_lexer": "ipython3",
   "version": "3.5.2"
  }
 },
 "nbformat": 4,
 "nbformat_minor": 2
}
